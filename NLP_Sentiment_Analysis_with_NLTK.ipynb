{
  "nbformat": 4,
  "nbformat_minor": 0,
  "metadata": {
    "colab": {
      "name": "NLP_Sentiment Analysis with NLTK.ipynb",
      "provenance": [],
      "collapsed_sections": [],
      "toc_visible": true
    },
    "kernelspec": {
      "name": "python3",
      "display_name": "Python 3"
    },
    "language_info": {
      "name": "python"
    }
  },
  "cells": [
    {
      "cell_type": "markdown",
      "metadata": {
        "id": "rA9FeEFjDgxE"
      },
      "source": [
        "# Part 1 - Processing Text with NLTK"
      ]
    },
    {
      "cell_type": "markdown",
      "metadata": {
        "id": "5bnNziPbEmLn"
      },
      "source": [
        "## Load the appropriate libraries\n",
        "\n",
        "We'll scrape the novel from the website Project Gutenberg using the Python package \"requests\". Then, we'll extract words from this web data using \"BeautifulSoup\". Finally, we'll dive into analyzing the distribution of words using the \"Natural Language Tookit (NLTK)\"."
      ]
    },
    {
      "cell_type": "code",
      "metadata": {
        "id": "E7vCWBvSIzip"
      },
      "source": [
        "# NLTK documentation: https://www.nltk.org/\n",
        "\n",
        "# Load the appropriate libraries\n",
        "import nltk\n",
        "import requests\n",
        "from bs4 import BeautifulSoup  \n",
        "\n",
        "# Download specific package in the NLTK\n",
        "nltk.download(['stopwords', 'wordnet'])"
      ],
      "execution_count": null,
      "outputs": []
    },
    {
      "cell_type": "markdown",
      "metadata": {
        "id": "sP4X2tPqWhbt"
      },
      "source": [
        "## Request the HTML file\n",
        "\n",
        "To fetch the HTML file with \"A Tale of Two Cities\", we're going to use the request package to make a GET request for the website, which means we're getting data from it."
      ]
    },
    {
      "cell_type": "code",
      "metadata": {
        "colab": {
          "base_uri": "https://localhost:8080/"
        },
        "id": "hi19uzMGJBzu",
        "outputId": "79c60a35-e33a-497a-cdd2-e684917e4dee"
      },
      "source": [
        "# Get the webpage and pull out all html text\n",
        "\n",
        "# Get \"A Tale of Two Cities\" HTML object\n",
        "r = requests.get(\"http://www.gutenberg.org/files/98/98-h/98-h.htm\")\n",
        "\n",
        "# Set the correct text encoding of HTML page\n",
        "r.encoding = \"utf-8\"\n",
        "\n",
        "# Extract the HTML from the text object\n",
        "html = r.text\n",
        "\n",
        "# Print a selection of characters in the HTML\n",
        "print(html[0:406])"
      ],
      "execution_count": null,
      "outputs": [
        {
          "output_type": "stream",
          "text": [
            "<!DOCTYPE html PUBLIC \"-//W3C//DTD XHTML 1.0 Strict//EN\"\r\n",
            "\"http://www.w3.org/TR/xhtml1/DTD/xhtml1-strict.dtd\">\r\n",
            "<html xmlns=\"http://www.w3.org/1999/xhtml\" xml:lang=\"en\" lang=\"en\">\r\n",
            "<head>\r\n",
            "<meta http-equiv=\"Content-Type\" content=\"text/html;charset=utf-8\" />\r\n",
            "<meta http-equiv=\"Content-Style-Type\" content=\"text/css\" />\r\n",
            "<title>The Project Gutenberg EBook of A Tale of Two Cities, by Charles Dickens</title>\n"
          ],
          "name": "stdout"
        }
      ]
    },
    {
      "cell_type": "markdown",
      "metadata": {
        "id": "4b82pWp8GiuM"
      },
      "source": [
        "## Get text from the HTML\n",
        "\n",
        "This HTML is not quite what we want. What we need to do now is wrangle this HTML to extract the text of the novel. For this we'll use the package BeautifulSoup. "
      ]
    },
    {
      "cell_type": "code",
      "metadata": {
        "colab": {
          "base_uri": "https://localhost:8080/"
        },
        "id": "nRL2L5SAMEDS",
        "outputId": "a24675d8-052c-4cab-b26a-39bf8ed6bad5"
      },
      "source": [
        "# Extract text from the HTML using BeautifulSoup\n",
        "\n",
        "# Create a BeautifulSoup object from the HTML\n",
        "soup = BeautifulSoup(html)\n",
        "\n",
        "# Get the text out of soup\n",
        "text = soup.get_text()\n",
        "\n",
        "# Print out some of the text characters\n",
        "# print(text[0:500])\n",
        "print(text[33000:33700])"
      ],
      "execution_count": null,
      "outputs": [
        {
          "output_type": "stream",
          "text": [
            "CHAPTER IV.The Preparation\r\n",
            "    \n",
            "When the mail got successfully to Dover, in the course of the forenoon,\r\n",
            "      the head drawer at the Royal George Hotel opened the coach-door as his\r\n",
            "      custom was. He did it with some flourish of ceremony, for a mail journey\r\n",
            "      from London in winter was an achievement to congratulate an adventurous\r\n",
            "      traveller upon.\r\n",
            "    \n",
            "\r\n",
            "      By that time, there was only one adventurous traveller left be\r\n",
            "      congratulated: for the two others had been set down at their respective\r\n",
            "      roadside destinations. The mildewy inside of the coach, with its damp and\r\n",
            "      dirty straw, its disagreeable smell, and its obscurity, was rather like a\r\n",
            "      larger dog\n"
          ],
          "name": "stdout"
        }
      ]
    },
    {
      "cell_type": "markdown",
      "metadata": {
        "id": "oO0X1clRWZDu"
      },
      "source": [
        "## Tokenize and pre-process the text for Natural Language Processing"
      ]
    },
    {
      "cell_type": "markdown",
      "metadata": {
        "id": "Laz6V49AJst0"
      },
      "source": [
        "### Tokenize the text\n",
        "\n",
        "We'll now tokenize the text, that is, remove everything that isn't a word (whitespace, punctuations, etc.) and then split the text into a list of words."
      ]
    },
    {
      "cell_type": "code",
      "metadata": {
        "colab": {
          "base_uri": "https://localhost:8080/"
        },
        "id": "joTNlA_9NR4z",
        "outputId": "181248c4-4d6f-4d37-c139-1e51a9eabcd8"
      },
      "source": [
        "# Tokenization: divide text into smaller parts (tokens)\n",
        "\n",
        "# Create a tokenizer and define how the tokens should be split\n",
        "tokenizer = nltk.tokenize.RegexpTokenizer(\"\\w+\")\n",
        "\n",
        "# Tokenize the text\n",
        "tokens = tokenizer.tokenize(text)\n",
        "\n",
        "# Print out the first 8 words (tokens)\n",
        "print(tokens[0:8])"
      ],
      "execution_count": null,
      "outputs": [
        {
          "output_type": "stream",
          "text": [
            "['The', 'Project', 'Gutenberg', 'EBook', 'of', 'A', 'Tale', 'of']\n"
          ],
          "name": "stdout"
        }
      ]
    },
    {
      "cell_type": "markdown",
      "metadata": {
        "id": "2VLK5uIJKr6b"
      },
      "source": [
        "### Make the words lower case\n",
        "\n",
        "Now, we want to ensure that the same words - whether capitalized or not - are treating as the same word (e.g. tale or Tale)."
      ]
    },
    {
      "cell_type": "code",
      "metadata": {
        "colab": {
          "base_uri": "https://localhost:8080/"
        },
        "id": "pgshanUgQIm4",
        "outputId": "549a1d7f-b6fe-4486-f579-2e40f1e4de0d"
      },
      "source": [
        "# Convert all tokens to lower case\n",
        "\n",
        "# Create a new list to hold the lowercased words\n",
        "lower_words = []  \n",
        "\n",
        "# Loop through all tokens and convert them to lower case\n",
        "for word in tokens:\n",
        "  lower_words.append(word.lower())\n",
        "\n",
        "# Print out the first 8 words (tokens)\n",
        "print(lower_words[0:8]) "
      ],
      "execution_count": null,
      "outputs": [
        {
          "output_type": "stream",
          "text": [
            "['the', 'project', 'gutenberg', 'ebook', 'of', 'a', 'tale', 'of']\n"
          ],
          "name": "stdout"
        }
      ]
    },
    {
      "cell_type": "markdown",
      "metadata": {
        "id": "mPRGgGQbLV60"
      },
      "source": [
        "### Load in stop words (meaningless words)\n",
        "\n",
        "It's common practice to remove words that appear a lot in the English language such as 'the', 'of', and 'a' because they aren't very interesting. These are known as 'stop words'. The package NLTK includes a good list of stop words in English that we can see."
      ]
    },
    {
      "cell_type": "code",
      "metadata": {
        "colab": {
          "base_uri": "https://localhost:8080/"
        },
        "id": "97RSEr5mQ9Ua",
        "outputId": "a287bbf4-83ee-4c22-ad67-a351df63bc7f"
      },
      "source": [
        "# Stop words are already captured in corpus in the NLTK package\n",
        "\n",
        "# Get the English stop words from NLTK\n",
        "stop_words = nltk.corpus.stopwords.words(\"english\")\n",
        "\n",
        "# Print out the first 10 stop words\n",
        "print(stop_words[0:10]) "
      ],
      "execution_count": null,
      "outputs": [
        {
          "output_type": "stream",
          "text": [
            "['i', 'me', 'my', 'myself', 'we', 'our', 'ours', 'ourselves', 'you', \"you're\"]\n"
          ],
          "name": "stdout"
        }
      ]
    },
    {
      "cell_type": "markdown",
      "metadata": {
        "id": "wbL57UwvMkr5"
      },
      "source": [
        "### Remove all stop words\n"
      ]
    },
    {
      "cell_type": "code",
      "metadata": {
        "colab": {
          "base_uri": "https://localhost:8080/"
        },
        "id": "qERZVB9XSrpc",
        "outputId": "4800f5fa-296f-4484-c8d4-2e4f14a2d28b"
      },
      "source": [
        "# Create a new list to hold the book text without stop words\n",
        "filtered_words = []\n",
        "\n",
        "# Loop through all lowercased words, and only keep non-stop words and append to \"filtered_words\"\n",
        "for word in lower_words:\n",
        "  if word not in stop_words:\n",
        "    filtered_words.append(word)\n",
        "\n",
        "# Print the first 5 filtered words to check that stop words have been removed\n",
        "print(filtered_words[0:5])"
      ],
      "execution_count": null,
      "outputs": [
        {
          "output_type": "stream",
          "text": [
            "['project', 'gutenberg', 'ebook', 'tale', 'two']\n"
          ],
          "name": "stdout"
        }
      ]
    },
    {
      "cell_type": "markdown",
      "metadata": {
        "id": "FZMKKpTLOFop"
      },
      "source": [
        "## Lexicon Normalization\n",
        "\n",
        "### Lematization\n",
        "\n",
        "Return the base or dictionary form of a word (convert synonyms or related words to their \"base words\")"
      ]
    },
    {
      "cell_type": "code",
      "metadata": {
        "colab": {
          "base_uri": "https://localhost:8080/"
        },
        "id": "Dw-fxSOuPJsO",
        "outputId": "c38979eb-fd8f-4fa4-de11-c3dfebcc3bac"
      },
      "source": [
        "from nltk.stem import WordNetLemmatizer\n",
        "\n",
        "# initialize the WordNetLemmatizer\n",
        "lemmatizer = WordNetLemmatizer()\n",
        "\n",
        "# Create a new list to hold the base words\n",
        "lemmed_words = []\n",
        "\n",
        "# Loop through the filtered words and break them down to the base words\n",
        "for word in filtered_words:\n",
        "  lemmed_words.append(lemmatizer.lemmatize(word))\n",
        "\n",
        "# Print the first 8 lemmatized_words\n",
        "print(lemmed_words[0:8])"
      ],
      "execution_count": null,
      "outputs": [
        {
          "output_type": "stream",
          "text": [
            "['project', 'gutenberg', 'ebook', 'tale', 'two', 'city', 'charles', 'dickens']\n"
          ],
          "name": "stdout"
        }
      ]
    },
    {
      "cell_type": "markdown",
      "metadata": {
        "id": "j2_D8JxINoSX"
      },
      "source": [
        "## Calculate the most frequent words"
      ]
    },
    {
      "cell_type": "code",
      "metadata": {
        "colab": {
          "base_uri": "https://localhost:8080/",
          "height": 313
        },
        "id": "0tpRrOaITZ45",
        "outputId": "6e0d0a0c-38e2-4bc0-8af2-69f9eb0ebe77"
      },
      "source": [
        "# Create the word frequency distribution\n",
        "freqdist = nltk.FreqDist(lemmed_words)\n",
        "\n",
        "# Plot the Top 30 word frequency distribution\n",
        "freqdist.plot(30)"
      ],
      "execution_count": null,
      "outputs": [
        {
          "output_type": "display_data",
          "data": {
            "image/png": "[encoded data removed]",
            "text/plain": [
              "<Figure size 432x288 with 1 Axes>"
            ]
          },
          "metadata": {
            "tags": [],
            "needs_background": "light"
          }
        }
      ]
    },
    {
      "cell_type": "markdown",
      "metadata": {
        "id": "liF9UMKmSoq7"
      },
      "source": [
        "# Part 2 - Perform Sentiment Analysis with NLTK/VADER"
      ]
    },
    {
      "cell_type": "markdown",
      "metadata": {
        "id": "2tfdyG0DTnpi"
      },
      "source": [
        "## Load libraries"
      ]
    },
    {
      "cell_type": "code",
      "metadata": {
        "id": "JOITUniDToiX"
      },
      "source": [
        "import pandas as pd\n",
        "import seaborn as sns\n",
        "import nltk\n",
        "from nltk.sentiment.vader import SentimentIntensityAnalyzer\n",
        "nltk.download('vader_lexicon')"
      ],
      "execution_count": null,
      "outputs": []
    },
    {
      "cell_type": "markdown",
      "metadata": {
        "id": "BzpRbBo6Vz7b"
      },
      "source": [
        "## Use several samples to see how sentiment scores are generated with SentimentIntensityAnalyzer"
      ]
    },
    {
      "cell_type": "code",
      "metadata": {
        "colab": {
          "base_uri": "https://localhost:8080/"
        },
        "id": "3xqDe1tVUL3k",
        "outputId": "9a402c2c-c3c8-4464-c0e7-139584d3c8ed"
      },
      "source": [
        "# Initiaze the SentimentIntensityAnalyzer\n",
        "analyzer = SentimentIntensityAnalyzer()\n",
        "\n",
        "review = 'This was a good movie.'\n",
        "\n",
        "# Get the polarity scores of the sentence 'review'\n",
        "analyzer.polarity_scores(review)\n",
        "\n",
        "# Compound score: -1 (most extreme negative) to +1 (most extreme positive)"
      ],
      "execution_count": null,
      "outputs": [
        {
          "output_type": "execute_result",
          "data": {
            "text/plain": [
              "{'compound': 0.4404, 'neg': 0.0, 'neu': 0.508, 'pos': 0.492}"
            ]
          },
          "metadata": {
            "tags": []
          },
          "execution_count": 18
        }
      ]
    },
    {
      "cell_type": "code",
      "metadata": {
        "colab": {
          "base_uri": "https://localhost:8080/"
        },
        "id": "ZiiJmsFOUvor",
        "outputId": "aa1db47c-181f-4dd3-9044-dbc0a541a639"
      },
      "source": [
        "# Initiaze the SentimentIntensityAnalyzer\n",
        "analyzer = SentimentIntensityAnalyzer()\n",
        "\n",
        "review = 'This was a good movie!'\n",
        "\n",
        "# Get the polarity scores of the sentence 'review'\n",
        "analyzer.polarity_scores(review)"
      ],
      "execution_count": null,
      "outputs": [
        {
          "output_type": "execute_result",
          "data": {
            "text/plain": [
              "{'compound': 0.4926, 'neg': 0.0, 'neu': 0.484, 'pos': 0.516}"
            ]
          },
          "metadata": {
            "tags": []
          },
          "execution_count": 19
        }
      ]
    },
    {
      "cell_type": "code",
      "metadata": {
        "colab": {
          "base_uri": "https://localhost:8080/"
        },
        "id": "9JkknbaUVrwn",
        "outputId": "7ad15705-e5a9-42fb-9b73-3cb34de23c8f"
      },
      "source": [
        "# Initiaze the SentimentIntensityAnalyzer\n",
        "analyzer = SentimentIntensityAnalyzer()\n",
        "\n",
        "review = 'This was a HORRIBLE movie!'\n",
        "\n",
        "# Get the polarity scores of the sentence 'review'\n",
        "analyzer.polarity_scores(review)"
      ],
      "execution_count": null,
      "outputs": [
        {
          "output_type": "execute_result",
          "data": {
            "text/plain": [
              "{'compound': -0.6731, 'neg': 0.601, 'neu': 0.399, 'pos': 0.0}"
            ]
          },
          "metadata": {
            "tags": []
          },
          "execution_count": 20
        }
      ]
    },
    {
      "cell_type": "markdown",
      "metadata": {
        "id": "6eKdveMTW-at"
      },
      "source": [
        "## Sentiment analysis for Disney Park reviews"
      ]
    },
    {
      "cell_type": "code",
      "metadata": {
        "colab": {
          "base_uri": "https://localhost:8080/",
          "height": 195
        },
        "id": "VeedKg-jVx_j",
        "outputId": "c166203a-0b20-4448-e407-613240fca943"
      },
      "source": [
        "# Disney Park review data set link\n",
        "url = 'http://bit.ly/park-reviews'\n",
        "\n",
        "# Read in the park review data set\n",
        "df_reviews = pd.read_csv(url)\n",
        "\n",
        "# Take a look at first 5 rows\n",
        "df_reviews.head()"
      ],
      "execution_count": null,
      "outputs": [
        {
          "output_type": "execute_result",
          "data": {
            "text/html": [
              "<div>\n",
              "<style scoped>\n",
              "    .dataframe tbody tr th:only-of-type {\n",
              "        vertical-align: middle;\n",
              "    }\n",
              "\n",
              "    .dataframe tbody tr th {\n",
              "        vertical-align: top;\n",
              "    }\n",
              "\n",
              "    .dataframe thead th {\n",
              "        text-align: right;\n",
              "    }\n",
              "</style>\n",
              "<table border=\"1\" class=\"dataframe\">\n",
              "  <thead>\n",
              "    <tr style=\"text-align: right;\">\n",
              "      <th></th>\n",
              "      <th>Review_Text</th>\n",
              "      <th>Branch</th>\n",
              "    </tr>\n",
              "  </thead>\n",
              "  <tbody>\n",
              "    <tr>\n",
              "      <th>0</th>\n",
              "      <td>If you've ever been to Disneyland anywhere you...</td>\n",
              "      <td>Disneyland_HongKong</td>\n",
              "    </tr>\n",
              "    <tr>\n",
              "      <th>1</th>\n",
              "      <td>Its been a while since d last time we visit HK...</td>\n",
              "      <td>Disneyland_HongKong</td>\n",
              "    </tr>\n",
              "    <tr>\n",
              "      <th>2</th>\n",
              "      <td>Thanks God it wasn   t too hot or too humid wh...</td>\n",
              "      <td>Disneyland_HongKong</td>\n",
              "    </tr>\n",
              "    <tr>\n",
              "      <th>3</th>\n",
              "      <td>HK Disneyland is a great compact park. Unfortu...</td>\n",
              "      <td>Disneyland_HongKong</td>\n",
              "    </tr>\n",
              "    <tr>\n",
              "      <th>4</th>\n",
              "      <td>the location is not in the city, took around 1...</td>\n",
              "      <td>Disneyland_HongKong</td>\n",
              "    </tr>\n",
              "  </tbody>\n",
              "</table>\n",
              "</div>"
            ],
            "text/plain": [
              "                                         Review_Text               Branch\n",
              "0  If you've ever been to Disneyland anywhere you...  Disneyland_HongKong\n",
              "1  Its been a while since d last time we visit HK...  Disneyland_HongKong\n",
              "2  Thanks God it wasn   t too hot or too humid wh...  Disneyland_HongKong\n",
              "3  HK Disneyland is a great compact park. Unfortu...  Disneyland_HongKong\n",
              "4  the location is not in the city, took around 1...  Disneyland_HongKong"
            ]
          },
          "metadata": {
            "tags": []
          },
          "execution_count": 21
        }
      ]
    },
    {
      "cell_type": "code",
      "metadata": {
        "colab": {
          "base_uri": "https://localhost:8080/"
        },
        "id": "53P_0YU1XTDP",
        "outputId": "646b5f40-7474-4fa8-a7c3-6371f0fd0a5f"
      },
      "source": [
        "df_reviews.shape"
      ],
      "execution_count": null,
      "outputs": [
        {
          "output_type": "execute_result",
          "data": {
            "text/plain": [
              "(29026, 2)"
            ]
          },
          "metadata": {
            "tags": []
          },
          "execution_count": 23
        }
      ]
    },
    {
      "cell_type": "markdown",
      "metadata": {
        "id": "OgFI8kkabqUV"
      },
      "source": [
        "### Get the sentiment scores for each review"
      ]
    },
    {
      "cell_type": "code",
      "metadata": {
        "colab": {
          "base_uri": "https://localhost:8080/",
          "height": 195
        },
        "id": "uHhK06_xWu3M",
        "outputId": "6a78ce37-4a50-411d-de54-a2001dd2d5c5"
      },
      "source": [
        "# Initiaze the SentimentIntensityAnalyzer\n",
        "analyzer = SentimentIntensityAnalyzer()\n",
        "\n",
        "# Create a funtion 'review' using lambda to generate polarity (sentiment) scores\n",
        "# Create a new column 'Sentiment Scores' to store these sentiment scores\n",
        "df_reviews['Sentiment Scores'] = df_reviews['Review_Text'].apply(lambda review: analyzer.polarity_scores(review))\n",
        "\n",
        "# Take a look at first 5 rows\n",
        "df_reviews.head()"
      ],
      "execution_count": null,
      "outputs": [
        {
          "output_type": "execute_result",
          "data": {
            "text/html": [
              "<div>\n",
              "<style scoped>\n",
              "    .dataframe tbody tr th:only-of-type {\n",
              "        vertical-align: middle;\n",
              "    }\n",
              "\n",
              "    .dataframe tbody tr th {\n",
              "        vertical-align: top;\n",
              "    }\n",
              "\n",
              "    .dataframe thead th {\n",
              "        text-align: right;\n",
              "    }\n",
              "</style>\n",
              "<table border=\"1\" class=\"dataframe\">\n",
              "  <thead>\n",
              "    <tr style=\"text-align: right;\">\n",
              "      <th></th>\n",
              "      <th>Review_Text</th>\n",
              "      <th>Branch</th>\n",
              "      <th>Sentiment Scores</th>\n",
              "    </tr>\n",
              "  </thead>\n",
              "  <tbody>\n",
              "    <tr>\n",
              "      <th>0</th>\n",
              "      <td>If you've ever been to Disneyland anywhere you...</td>\n",
              "      <td>Disneyland_HongKong</td>\n",
              "      <td>{'neg': 0.0, 'neu': 0.887, 'pos': 0.113, 'comp...</td>\n",
              "    </tr>\n",
              "    <tr>\n",
              "      <th>1</th>\n",
              "      <td>Its been a while since d last time we visit HK...</td>\n",
              "      <td>Disneyland_HongKong</td>\n",
              "      <td>{'neg': 0.04, 'neu': 0.73, 'pos': 0.231, 'comp...</td>\n",
              "    </tr>\n",
              "    <tr>\n",
              "      <th>2</th>\n",
              "      <td>Thanks God it wasn   t too hot or too humid wh...</td>\n",
              "      <td>Disneyland_HongKong</td>\n",
              "      <td>{'neg': 0.024, 'neu': 0.742, 'pos': 0.235, 'co...</td>\n",
              "    </tr>\n",
              "    <tr>\n",
              "      <th>3</th>\n",
              "      <td>HK Disneyland is a great compact park. Unfortu...</td>\n",
              "      <td>Disneyland_HongKong</td>\n",
              "      <td>{'neg': 0.08, 'neu': 0.76, 'pos': 0.16, 'compo...</td>\n",
              "    </tr>\n",
              "    <tr>\n",
              "      <th>4</th>\n",
              "      <td>the location is not in the city, took around 1...</td>\n",
              "      <td>Disneyland_HongKong</td>\n",
              "      <td>{'neg': 0.0, 'neu': 0.899, 'pos': 0.101, 'comp...</td>\n",
              "    </tr>\n",
              "  </tbody>\n",
              "</table>\n",
              "</div>"
            ],
            "text/plain": [
              "                                         Review_Text  ...                                   Sentiment Scores\n",
              "0  If you've ever been to Disneyland anywhere you...  ...  {'neg': 0.0, 'neu': 0.887, 'pos': 0.113, 'comp...\n",
              "1  Its been a while since d last time we visit HK...  ...  {'neg': 0.04, 'neu': 0.73, 'pos': 0.231, 'comp...\n",
              "2  Thanks God it wasn   t too hot or too humid wh...  ...  {'neg': 0.024, 'neu': 0.742, 'pos': 0.235, 'co...\n",
              "3  HK Disneyland is a great compact park. Unfortu...  ...  {'neg': 0.08, 'neu': 0.76, 'pos': 0.16, 'compo...\n",
              "4  the location is not in the city, took around 1...  ...  {'neg': 0.0, 'neu': 0.899, 'pos': 0.101, 'comp...\n",
              "\n",
              "[5 rows x 3 columns]"
            ]
          },
          "metadata": {
            "tags": []
          },
          "execution_count": 24
        }
      ]
    },
    {
      "cell_type": "markdown",
      "metadata": {
        "id": "1bf-lrhwb1Qe"
      },
      "source": [
        "### Extract the \"compound score\" from the sentiment scores for each review"
      ]
    },
    {
      "cell_type": "code",
      "metadata": {
        "colab": {
          "base_uri": "https://localhost:8080/",
          "height": 195
        },
        "id": "HsOB_IsKXSHG",
        "outputId": "8ef6feed-cb3f-4e14-9563-cddeafa70e2e"
      },
      "source": [
        "# Create a funtion 'score_dict' using lambda to extract the 'compound score' from the sentiment scores dictionary\n",
        "# Create a new column 'Compound Score' to store compound scores\n",
        "df_reviews['Compound Score'] = df_reviews['Sentiment Scores'].apply(lambda score_dict: score_dict['compound'])\n",
        "\n",
        "# Take a look at first 5 rows\n",
        "df_reviews.head()"
      ],
      "execution_count": null,
      "outputs": [
        {
          "output_type": "execute_result",
          "data": {
            "text/html": [
              "<div>\n",
              "<style scoped>\n",
              "    .dataframe tbody tr th:only-of-type {\n",
              "        vertical-align: middle;\n",
              "    }\n",
              "\n",
              "    .dataframe tbody tr th {\n",
              "        vertical-align: top;\n",
              "    }\n",
              "\n",
              "    .dataframe thead th {\n",
              "        text-align: right;\n",
              "    }\n",
              "</style>\n",
              "<table border=\"1\" class=\"dataframe\">\n",
              "  <thead>\n",
              "    <tr style=\"text-align: right;\">\n",
              "      <th></th>\n",
              "      <th>Review_Text</th>\n",
              "      <th>Branch</th>\n",
              "      <th>Sentiment Scores</th>\n",
              "      <th>Compound Score</th>\n",
              "    </tr>\n",
              "  </thead>\n",
              "  <tbody>\n",
              "    <tr>\n",
              "      <th>0</th>\n",
              "      <td>If you've ever been to Disneyland anywhere you...</td>\n",
              "      <td>Disneyland_HongKong</td>\n",
              "      <td>{'neg': 0.0, 'neu': 0.887, 'pos': 0.113, 'comp...</td>\n",
              "      <td>0.7069</td>\n",
              "    </tr>\n",
              "    <tr>\n",
              "      <th>1</th>\n",
              "      <td>Its been a while since d last time we visit HK...</td>\n",
              "      <td>Disneyland_HongKong</td>\n",
              "      <td>{'neg': 0.04, 'neu': 0.73, 'pos': 0.231, 'comp...</td>\n",
              "      <td>0.9901</td>\n",
              "    </tr>\n",
              "    <tr>\n",
              "      <th>2</th>\n",
              "      <td>Thanks God it wasn   t too hot or too humid wh...</td>\n",
              "      <td>Disneyland_HongKong</td>\n",
              "      <td>{'neg': 0.024, 'neu': 0.742, 'pos': 0.235, 'co...</td>\n",
              "      <td>0.9920</td>\n",
              "    </tr>\n",
              "    <tr>\n",
              "      <th>3</th>\n",
              "      <td>HK Disneyland is a great compact park. Unfortu...</td>\n",
              "      <td>Disneyland_HongKong</td>\n",
              "      <td>{'neg': 0.08, 'neu': 0.76, 'pos': 0.16, 'compo...</td>\n",
              "      <td>0.8489</td>\n",
              "    </tr>\n",
              "    <tr>\n",
              "      <th>4</th>\n",
              "      <td>the location is not in the city, took around 1...</td>\n",
              "      <td>Disneyland_HongKong</td>\n",
              "      <td>{'neg': 0.0, 'neu': 0.899, 'pos': 0.101, 'comp...</td>\n",
              "      <td>0.2846</td>\n",
              "    </tr>\n",
              "  </tbody>\n",
              "</table>\n",
              "</div>"
            ],
            "text/plain": [
              "                                         Review_Text  ... Compound Score\n",
              "0  If you've ever been to Disneyland anywhere you...  ...         0.7069\n",
              "1  Its been a while since d last time we visit HK...  ...         0.9901\n",
              "2  Thanks God it wasn   t too hot or too humid wh...  ...         0.9920\n",
              "3  HK Disneyland is a great compact park. Unfortu...  ...         0.8489\n",
              "4  the location is not in the city, took around 1...  ...         0.2846\n",
              "\n",
              "[5 rows x 4 columns]"
            ]
          },
          "metadata": {
            "tags": []
          },
          "execution_count": 25
        }
      ]
    },
    {
      "cell_type": "markdown",
      "metadata": {
        "id": "sgcIhNp8c84J"
      },
      "source": [
        "### Categorize compound scores into 'Positive' and 'Negative' categories for analysis"
      ]
    },
    {
      "cell_type": "code",
      "metadata": {
        "colab": {
          "base_uri": "https://localhost:8080/",
          "height": 195
        },
        "id": "KMwBPJFec75H",
        "outputId": "a26dd64a-b6b2-4e61-c297-fe0395b6bc8d"
      },
      "source": [
        "# Create a funtion 'c' using lambda to categorize compound scores\n",
        "# Create a new column 'Sentiment Category' to store score category\n",
        "df_reviews['Sentiment Category'] = df_reviews['Compound Score'].apply(lambda c: 'Positive' if c >= 0 else 'Negative')\n",
        "\n",
        "# Take a look at first 5 rows\n",
        "df_reviews.head()"
      ],
      "execution_count": null,
      "outputs": [
        {
          "output_type": "execute_result",
          "data": {
            "text/html": [
              "<div>\n",
              "<style scoped>\n",
              "    .dataframe tbody tr th:only-of-type {\n",
              "        vertical-align: middle;\n",
              "    }\n",
              "\n",
              "    .dataframe tbody tr th {\n",
              "        vertical-align: top;\n",
              "    }\n",
              "\n",
              "    .dataframe thead th {\n",
              "        text-align: right;\n",
              "    }\n",
              "</style>\n",
              "<table border=\"1\" class=\"dataframe\">\n",
              "  <thead>\n",
              "    <tr style=\"text-align: right;\">\n",
              "      <th></th>\n",
              "      <th>Review_Text</th>\n",
              "      <th>Branch</th>\n",
              "      <th>Sentiment Scores</th>\n",
              "      <th>Compound Score</th>\n",
              "      <th>Sentiment Category</th>\n",
              "    </tr>\n",
              "  </thead>\n",
              "  <tbody>\n",
              "    <tr>\n",
              "      <th>0</th>\n",
              "      <td>If you've ever been to Disneyland anywhere you...</td>\n",
              "      <td>Disneyland_HongKong</td>\n",
              "      <td>{'neg': 0.0, 'neu': 0.887, 'pos': 0.113, 'comp...</td>\n",
              "      <td>0.7069</td>\n",
              "      <td>Positive</td>\n",
              "    </tr>\n",
              "    <tr>\n",
              "      <th>1</th>\n",
              "      <td>Its been a while since d last time we visit HK...</td>\n",
              "      <td>Disneyland_HongKong</td>\n",
              "      <td>{'neg': 0.04, 'neu': 0.73, 'pos': 0.231, 'comp...</td>\n",
              "      <td>0.9901</td>\n",
              "      <td>Positive</td>\n",
              "    </tr>\n",
              "    <tr>\n",
              "      <th>2</th>\n",
              "      <td>Thanks God it wasn   t too hot or too humid wh...</td>\n",
              "      <td>Disneyland_HongKong</td>\n",
              "      <td>{'neg': 0.024, 'neu': 0.742, 'pos': 0.235, 'co...</td>\n",
              "      <td>0.9920</td>\n",
              "      <td>Positive</td>\n",
              "    </tr>\n",
              "    <tr>\n",
              "      <th>3</th>\n",
              "      <td>HK Disneyland is a great compact park. Unfortu...</td>\n",
              "      <td>Disneyland_HongKong</td>\n",
              "      <td>{'neg': 0.08, 'neu': 0.76, 'pos': 0.16, 'compo...</td>\n",
              "      <td>0.8489</td>\n",
              "      <td>Positive</td>\n",
              "    </tr>\n",
              "    <tr>\n",
              "      <th>4</th>\n",
              "      <td>the location is not in the city, took around 1...</td>\n",
              "      <td>Disneyland_HongKong</td>\n",
              "      <td>{'neg': 0.0, 'neu': 0.899, 'pos': 0.101, 'comp...</td>\n",
              "      <td>0.2846</td>\n",
              "      <td>Positive</td>\n",
              "    </tr>\n",
              "  </tbody>\n",
              "</table>\n",
              "</div>"
            ],
            "text/plain": [
              "                                         Review_Text  ... Sentiment Category\n",
              "0  If you've ever been to Disneyland anywhere you...  ...           Positive\n",
              "1  Its been a while since d last time we visit HK...  ...           Positive\n",
              "2  Thanks God it wasn   t too hot or too humid wh...  ...           Positive\n",
              "3  HK Disneyland is a great compact park. Unfortu...  ...           Positive\n",
              "4  the location is not in the city, took around 1...  ...           Positive\n",
              "\n",
              "[5 rows x 5 columns]"
            ]
          },
          "metadata": {
            "tags": []
          },
          "execution_count": 26
        }
      ]
    },
    {
      "cell_type": "markdown",
      "metadata": {
        "id": "ga_eOCbHefXe"
      },
      "source": [
        "### Understand overall sentiment with distribution of Compound Score"
      ]
    },
    {
      "cell_type": "code",
      "metadata": {
        "colab": {
          "base_uri": "https://localhost:8080/",
          "height": 369
        },
        "id": "zcNUUAiVefrA",
        "outputId": "c383bfef-af2c-4454-b59c-38e4e4ae7b08"
      },
      "source": [
        "# Plot distribution of Compound Score to see overall sentiment\n",
        "sns.displot(data=df_reviews, x=\"Compound Score\");\n",
        "# The reviews lean to positive "
      ],
      "execution_count": null,
      "outputs": [
        {
          "output_type": "display_data",
          "data": {
            "image/png": "[encoded data removed]",
            "text/plain": [
              "<Figure size 360x360 with 1 Axes>"
            ]
          },
          "metadata": {
            "tags": [],
            "needs_background": "light"
          }
        }
      ]
    }
  ]
}